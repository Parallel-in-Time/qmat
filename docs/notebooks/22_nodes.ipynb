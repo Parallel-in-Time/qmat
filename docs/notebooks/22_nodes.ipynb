{
 "cells": [
  {
   "cell_type": "markdown",
   "id": "468aa069",
   "metadata": {},
   "source": [
    "# Tutorial 2 : using the `qmat.nodes` module\n",
    "\n",
    "🛠️ In construction ..."
   ]
  }
 ],
 "metadata": {
  "language_info": {
   "name": "python"
  }
 },
 "nbformat": 4,
 "nbformat_minor": 5
}
