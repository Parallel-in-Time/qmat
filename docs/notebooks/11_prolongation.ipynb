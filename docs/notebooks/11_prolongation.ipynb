{
 "cells": [
  {
   "cell_type": "markdown",
   "metadata": {},
   "source": [
    "# Step 5 : generalizing the prolongation for RK-type and SDC-type time-steppers\n",
    "\n",
    "🛠️ In construction ...\n",
    "\n",
    "## Additional coefficients from $G$-generators\n",
    "\n",
    "While the `genQCoeffs` function and `genCoeffs` method of the $Q$-generator provide per default only the nodes, weights and $Q$ matrix (zero-to-nodes), \n",
    "you can also use them to retrieve :\n",
    "\n",
    "- the $S$ matrix (node-to-node)\n",
    "- the interpolation coefficients for the end-interval update `hCoeffs`"
   ]
  },
  {
   "cell_type": "code",
   "execution_count": 1,
   "metadata": {},
   "outputs": [],
   "source": [
    "from qmat import genQCoeffs\n",
    "from qmat.qcoeff.collocation import Collocation\n",
    "coll = Collocation(nNodes=4, nodeType=\"LEGENDRE\", quadType=\"RADAU-RIGHT\")\n",
    "\n",
    "nodes, weights, Q, S = coll.genCoeffs(withS=True)\n",
    "nodes, weights, Q, hCoeffs = genQCoeffs(\"coll\", hCoeffs=True, nNodes=4, nodeType=\"LEGENDRE\", quadType=\"RADAU-RIGHT\")\n",
    "nodes, weights, Q, S, hCoeffs = coll.genCoeffs(withS=True, hCoeffs=True)"
   ]
  },
  {
   "cell_type": "markdown",
   "metadata": {},
   "source": [
    "Note that $S$ is always returned before `hCoeffs`, if asked. Also, you can retrieve those directly from the generator object :"
   ]
  },
  {
   "cell_type": "code",
   "execution_count": 2,
   "metadata": {},
   "outputs": [
    {
     "name": "stdout",
     "output_type": "stream",
     "text": [
      "S :\n",
      "[[ 0.08696371 -0.02660418  0.01262746 -0.00355515]\n",
      " [ 0.10115441  0.18964047 -0.04050789  0.01029065]\n",
      " [-0.0209262   0.19091672  0.19091672 -0.0209262 ]\n",
      " [ 0.01029065 -0.04050789  0.18964047  0.10115441]]\n",
      "hCoeffs : [-0.1139172   0.40076152 -0.81363245  1.52678813]\n"
     ]
    }
   ],
   "source": [
    "coll = Collocation(nNodes=4, nodeType=\"LEGENDRE\", quadType=\"GAUSS\")\n",
    "S = coll.S\n",
    "hCoeffs = coll.hCoeffs\n",
    "\n",
    "print(\"S :\")\n",
    "print(S)\n",
    "print(\"hCoeffs :\", hCoeffs)"
   ]
  }
 ],
 "metadata": {
  "language_info": {
   "name": "python"
  }
 },
 "nbformat": 4,
 "nbformat_minor": 2
}
