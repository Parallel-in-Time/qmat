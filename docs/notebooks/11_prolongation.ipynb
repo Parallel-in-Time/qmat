{
 "cells": [
  {
   "cell_type": "markdown",
   "metadata": {},
   "source": [
    "# Step 5 : generalizing the prolongation for RK-type and SDC-type time-steppers\n",
    "\n",
    "🛠️ In construction ..."
   ]
  }
 ],
 "metadata": {
  "language_info": {
   "name": "python"
  }
 },
 "nbformat": 4,
 "nbformat_minor": 2
}
