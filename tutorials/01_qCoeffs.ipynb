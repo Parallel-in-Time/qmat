{
 "cells": [
  {
   "cell_type": "markdown",
   "metadata": {},
   "source": [
    "# Tutorial 1 : generate Q coefficients\n",
    "\n",
    ":scroll: _To generate $Q$ matrix coefficients using `qmat`, there is two possible approaches. \n",
    "Both ways produce the same coefficients, so you can choose one or the other depending on your needs and preferences._\n",
    "\n",
    "## Procedural approach : use a base function\n",
    "\n",
    "For a quick easy way, you simply need to import :"
   ]
  },
  {
   "cell_type": "code",
   "execution_count": 1,
   "metadata": {
    "execution": {
     "iopub.execute_input": "2024-05-25T09:57:57.798810Z",
     "iopub.status.busy": "2024-05-25T09:57:57.798328Z",
     "iopub.status.idle": "2024-05-25T09:57:57.884854Z",
     "shell.execute_reply": "2024-05-25T09:57:57.884213Z"
    }
   },
   "outputs": [],
   "source": [
    "from qmat import genQCoeffs"
   ]
  },
  {
   "cell_type": "markdown",
   "metadata": {},
   "source": [
    "Then `genQCoeffs` can be used to generate $Q$ matrix coefficients from given collocations method, Butcher tables, etc ... like this :"
   ]
  },
  {
   "cell_type": "code",
   "execution_count": 2,
   "metadata": {
    "execution": {
     "iopub.execute_input": "2024-05-25T09:57:57.887199Z",
     "iopub.status.busy": "2024-05-25T09:57:57.887073Z",
     "iopub.status.idle": "2024-05-25T09:57:57.891342Z",
     "shell.execute_reply": "2024-05-25T09:57:57.890962Z"
    }
   },
   "outputs": [
    {
     "name": "stdout",
     "output_type": "stream",
     "text": [
      "node :  [0.08858796 0.40946686 0.78765946 1.        ]\n",
      "weights :  [0.22046221 0.38819347 0.32884432 0.0625    ]\n",
      "Q : \n",
      "[[ 0.11299948 -0.04030922  0.02580238 -0.00990468]\n",
      " [ 0.234384    0.20689257 -0.04785713  0.01604742]\n",
      " [ 0.21668178  0.40612326  0.18903652 -0.0241821 ]\n",
      " [ 0.22046221  0.38819347  0.32884432  0.0625    ]]\n"
     ]
    }
   ],
   "source": [
    "# Coefficients or a collocation method\n",
    "nodes, weights, Q = genQCoeffs(\"Collocation\", nNodes=4, nodeType=\"LEGENDRE\", quadType=\"RADAU-RIGHT\")\n",
    "\n",
    "print(\"node : \", nodes)\n",
    "print(\"weights : \", weights)\n",
    "print(\"Q : \")\n",
    "print(Q)"
   ]
  },
  {
   "cell_type": "code",
   "execution_count": 3,
   "metadata": {
    "execution": {
     "iopub.execute_input": "2024-05-25T09:57:57.914860Z",
     "iopub.status.busy": "2024-05-25T09:57:57.914715Z",
     "iopub.status.idle": "2024-05-25T09:57:57.918240Z",
     "shell.execute_reply": "2024-05-25T09:57:57.917749Z"
    }
   },
   "outputs": [
    {
     "name": "stdout",
     "output_type": "stream",
     "text": [
      "c :  [0.  0.5 0.5 1. ]\n",
      "b :  [0.16666667 0.33333333 0.33333333 0.16666667]\n",
      "A : \n",
      "[[0.  0.  0.  0. ]\n",
      " [0.5 0.  0.  0. ]\n",
      " [0.  0.5 0.  0. ]\n",
      " [0.  0.  1.  0. ]]\n"
     ]
    }
   ],
   "source": [
    "# Coefficients of a Runge-Kutta method (Butcher table)\n",
    "c, b, A = genQCoeffs(\"RK4\")\n",
    "\n",
    "print(\"c : \", c)\n",
    "print(\"b : \", b)\n",
    "print(\"A : \")\n",
    "print(A)"
   ]
  },
  {
   "cell_type": "markdown",
   "metadata": {},
   "source": [
    "Depending on the first given argument (`qType`), the `genQCoeffs` function will use the associated $Q$-generator,\n",
    "eventually passing keyword arguments to instantiate it (_e.g_ the `nNodes=4, nodeType=\"LEGENDRE\", quadType=\"RADAU-RIGHT\"` for collocation).\n",
    "If some arguments to instantiate the generator are missing or wrongly given, then a descriptive error will be raised, for instance :"
   ]
  },
  {
   "cell_type": "code",
   "execution_count": 4,
   "metadata": {
    "execution": {
     "iopub.execute_input": "2024-05-25T09:57:57.919988Z",
     "iopub.status.busy": "2024-05-25T09:57:57.919849Z",
     "iopub.status.idle": "2024-05-25T09:57:57.922755Z",
     "shell.execute_reply": "2024-05-25T09:57:57.922276Z"
    }
   },
   "outputs": [
    {
     "name": "stdout",
     "output_type": "stream",
     "text": [
      "TypeError: Collocation.__init__() got an unexpected keyword argument 'node_type'\n"
     ]
    }
   ],
   "source": [
    "try:\n",
    "    nodes, weights, Q = genQCoeffs(\"Collocation\", nNodes=4, node_type=\"LEGENDRE\", quadType=\"RADAU-RIGHT\")\n",
    "except Exception as e:\n",
    "    print(f\"{e.__class__.__name__}: {e}\")"
   ]
  },
  {
   "cell_type": "code",
   "execution_count": 5,
   "metadata": {
    "execution": {
     "iopub.execute_input": "2024-05-25T09:57:57.924407Z",
     "iopub.status.busy": "2024-05-25T09:57:57.924123Z",
     "iopub.status.idle": "2024-05-25T09:57:57.926841Z",
     "shell.execute_reply": "2024-05-25T09:57:57.926482Z"
    }
   },
   "outputs": [
    {
     "name": "stdout",
     "output_type": "stream",
     "text": [
      "TypeError: Collocation.__init__() missing 1 required positional argument: 'quadType'\n"
     ]
    }
   ],
   "source": [
    "try:\n",
    "    nodes, weights, Q = genQCoeffs(\"Collocation\", nNodes=4, nodeType=\"LEGENDRE\")\n",
    "except Exception as e:\n",
    "    print(f\"{e.__class__.__name__}: {e}\")"
   ]
  },
  {
   "cell_type": "markdown",
   "metadata": {},
   "source": [
    "> :bell: Note that different aliases exists for each generators. For instance :"
   ]
  },
  {
   "cell_type": "code",
   "execution_count": 6,
   "metadata": {
    "execution": {
     "iopub.execute_input": "2024-05-25T09:57:57.928316Z",
     "iopub.status.busy": "2024-05-25T09:57:57.928089Z",
     "iopub.status.idle": "2024-05-25T09:57:57.930760Z",
     "shell.execute_reply": "2024-05-25T09:57:57.930413Z"
    }
   },
   "outputs": [],
   "source": [
    "# alias for Collocation\n",
    "nodes, weights, Q = genQCoeffs(\"coll\", nNodes=4, nodeType=\"LEGENDRE\", quadType=\"RADAU-RIGHT\")\n",
    "\n",
    "# alias for RK4\n",
    "c, b, A = genQCoeffs(\"ERK4\")"
   ]
  },
  {
   "cell_type": "markdown",
   "metadata": {},
   "source": [
    "All those aliases are uniques among $Q$-generators, and if the requested alias does not correspond to any generator, \n",
    "an appropriate error will be raised."
   ]
  },
  {
   "cell_type": "code",
   "execution_count": 7,
   "metadata": {
    "execution": {
     "iopub.execute_input": "2024-05-25T09:57:57.931928Z",
     "iopub.status.busy": "2024-05-25T09:57:57.931835Z",
     "iopub.status.idle": "2024-05-25T09:57:57.933940Z",
     "shell.execute_reply": "2024-05-25T09:57:57.933666Z"
    }
   },
   "outputs": [
    {
     "name": "stdout",
     "output_type": "stream",
     "text": [
      "ValueError: qType=collocation is not available\n"
     ]
    }
   ],
   "source": [
    "try:\n",
    "    genQCoeffs(\"collocation\")\n",
    "except Exception as e:\n",
    "    print(f\"{e.__class__.__name__}: {e}\")"
   ]
  },
  {
   "cell_type": "markdown",
   "metadata": {},
   "source": [
    "You can look at all the current aliases and associated generators looking at the `Q_GENERATORS` dictionary :"
   ]
  },
  {
   "cell_type": "code",
   "execution_count": 8,
   "metadata": {
    "execution": {
     "iopub.execute_input": "2024-05-25T09:57:57.935269Z",
     "iopub.status.busy": "2024-05-25T09:57:57.935054Z",
     "iopub.status.idle": "2024-05-25T09:57:57.937371Z",
     "shell.execute_reply": "2024-05-25T09:57:57.937065Z"
    }
   },
   "outputs": [
    {
     "name": "stdout",
     "output_type": "stream",
     "text": [
      "FE: <class 'qmat.qcoeff.butcher.FE'>\n",
      "EE: <class 'qmat.qcoeff.butcher.FE'>\n",
      "RK4: <class 'qmat.qcoeff.butcher.RK4'>\n",
      "ERK4: <class 'qmat.qcoeff.butcher.RK4'>\n",
      "RK4_38: <class 'qmat.qcoeff.butcher.RK4_38'>\n",
      "ERK4_38: <class 'qmat.qcoeff.butcher.RK4_38'>\n",
      "RK53: <class 'qmat.qcoeff.butcher.RK53'>\n",
      "ERK53: <class 'qmat.qcoeff.butcher.RK53'>\n",
      "RK21: <class 'qmat.qcoeff.butcher.RK21'>\n",
      "ERK21: <class 'qmat.qcoeff.butcher.RK21'>\n",
      "RK2: <class 'qmat.qcoeff.butcher.RK2'>\n"
     ]
    }
   ],
   "source": [
    "from qmat import Q_GENERATORS\n",
    "\n",
    "for i, (key, val) in enumerate(Q_GENERATORS.items()):\n",
    "    print(f\"{key}: {val}\")\n",
    "    if i == 10:\n",
    "        break   # only showing here the first 10 aliases"
   ]
  },
  {
   "cell_type": "markdown",
   "metadata": {},
   "source": [
    "## OOP approach : use generator objects\n",
    "\n",
    "In case you want a more extended approach (_e.g_ keep the same generator and re-use it later, have several ones, ...), you can also directly use the generator classes. \n",
    "Two way to retrieve those :\n",
    "\n",
    "1. import the generator directly from its submodule"
   ]
  },
  {
   "cell_type": "code",
   "execution_count": 9,
   "metadata": {
    "execution": {
     "iopub.execute_input": "2024-05-25T09:57:57.938874Z",
     "iopub.status.busy": "2024-05-25T09:57:57.938662Z",
     "iopub.status.idle": "2024-05-25T09:57:57.941780Z",
     "shell.execute_reply": "2024-05-25T09:57:57.941464Z"
    }
   },
   "outputs": [],
   "source": [
    "from qmat.qcoeff.collocation import Collocation\n",
    "coll = Collocation(nNodes=4, nodeType=\"LEGENDRE\", quadType=\"RADAU-RIGHT\")"
   ]
  },
  {
   "cell_type": "markdown",
   "metadata": {},
   "source": [
    "2. retrieve it with one of its aliases from the `Q_GENERATORS` dictionary"
   ]
  },
  {
   "cell_type": "code",
   "execution_count": 10,
   "metadata": {
    "execution": {
     "iopub.execute_input": "2024-05-25T09:57:57.943219Z",
     "iopub.status.busy": "2024-05-25T09:57:57.942992Z",
     "iopub.status.idle": "2024-05-25T09:57:57.945971Z",
     "shell.execute_reply": "2024-05-25T09:57:57.945642Z"
    }
   },
   "outputs": [],
   "source": [
    "Generator = Q_GENERATORS[\"coll\"]\n",
    "coll = Generator(nNodes=4, nodeType=\"LEGENDRE\", quadType=\"RADAU-RIGHT\")"
   ]
  },
  {
   "cell_type": "markdown",
   "metadata": {},
   "source": [
    "In both case, you'll instantiate an object that provides properties to access each of the given coefficients :"
   ]
  },
  {
   "cell_type": "code",
   "execution_count": 11,
   "metadata": {
    "execution": {
     "iopub.execute_input": "2024-05-25T09:57:57.947476Z",
     "iopub.status.busy": "2024-05-25T09:57:57.947203Z",
     "iopub.status.idle": "2024-05-25T09:57:57.950076Z",
     "shell.execute_reply": "2024-05-25T09:57:57.949733Z"
    }
   },
   "outputs": [
    {
     "name": "stdout",
     "output_type": "stream",
     "text": [
      "nodes : [0.08858796 0.40946686 0.78765946 1.        ]\n",
      "weights : [0.22046221 0.38819347 0.32884432 0.0625    ]\n",
      "Q :\n",
      "[[ 0.11299948 -0.04030922  0.02580238 -0.00990468]\n",
      " [ 0.234384    0.20689257 -0.04785713  0.01604742]\n",
      " [ 0.21668178  0.40612326  0.18903652 -0.0241821 ]\n",
      " [ 0.22046221  0.38819347  0.32884432  0.0625    ]]\n"
     ]
    }
   ],
   "source": [
    "print(\"nodes :\", coll.nodes)\n",
    "print(\"weights :\", coll.weights)\n",
    "print(\"Q :\")\n",
    "print(coll.Q)"
   ]
  },
  {
   "cell_type": "markdown",
   "metadata": {},
   "source": [
    "... or a `genCoeffs` method providing all coefficients (similarly as the `genQCoeffs` function) :"
   ]
  },
  {
   "cell_type": "code",
   "execution_count": 12,
   "metadata": {
    "execution": {
     "iopub.execute_input": "2024-05-25T09:57:57.951925Z",
     "iopub.status.busy": "2024-05-25T09:57:57.951812Z",
     "iopub.status.idle": "2024-05-25T09:57:57.953782Z",
     "shell.execute_reply": "2024-05-25T09:57:57.953496Z"
    }
   },
   "outputs": [],
   "source": [
    "nodes, weights, Q = coll.genCoeffs()"
   ]
  }
 ],
 "metadata": {
  "kernelspec": {
   "display_name": "base",
   "language": "python",
   "name": "python3"
  },
  "language_info": {
   "codemirror_mode": {
    "name": "ipython",
    "version": 3
   },
   "file_extension": ".py",
   "mimetype": "text/x-python",
   "name": "python",
   "nbconvert_exporter": "python",
   "pygments_lexer": "ipython3",
   "version": "3.11.9"
  }
 },
 "nbformat": 4,
 "nbformat_minor": 2
}
