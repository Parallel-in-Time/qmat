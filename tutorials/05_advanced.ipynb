{
 "cells": [
  {
   "cell_type": "markdown",
   "metadata": {},
   "source": [
    "# Tutorial 5 : advanced usage of `qmat`\n",
    "\n",
    "## Additional coefficients from $G$-generators\n",
    "\n",
    "While the `genQCoeffs` function and `genCoeffs` method of the $Q$-generator provide per default only the nodes, weights and $Q$ matrix (zero-to-nodes), \n",
    "you can also use them to retrieve :\n",
    "\n",
    "- the $S$ matrix (node-to-node)\n",
    "- the interpolation coefficients for the end-interval update `hCoeffs`"
   ]
  },
  {
   "cell_type": "code",
   "execution_count": 1,
   "metadata": {
    "execution": {
     "iopub.execute_input": "2024-05-25T09:58:07.827703Z",
     "iopub.status.busy": "2024-05-25T09:58:07.827385Z",
     "iopub.status.idle": "2024-05-25T09:58:07.914348Z",
     "shell.execute_reply": "2024-05-25T09:58:07.913592Z"
    }
   },
   "outputs": [],
   "source": [
    "from qmat import genQCoeffs\n",
    "from qmat.qcoeff.collocation import Collocation\n",
    "coll = Collocation(nNodes=4, nodeType=\"LEGENDRE\", quadType=\"RADAU-RIGHT\")\n",
    "\n",
    "nodes, weights, Q, S = coll.genCoeffs(withS=True)\n",
    "nodes, weights, Q, hCoeffs = genQCoeffs(\"coll\", hCoeffs=True, nNodes=4, nodeType=\"LEGENDRE\", quadType=\"RADAU-RIGHT\")\n",
    "nodes, weights, Q, S, hCoeffs = coll.genCoeffs(withS=True, hCoeffs=True)"
   ]
  },
  {
   "cell_type": "markdown",
   "metadata": {},
   "source": [
    "Note that $S$ is always returned before `hCoeffs`, if asked. Also, you can retrieve those directly from the generator object :"
   ]
  },
  {
   "cell_type": "code",
   "execution_count": 2,
   "metadata": {
    "execution": {
     "iopub.execute_input": "2024-05-25T09:58:07.916459Z",
     "iopub.status.busy": "2024-05-25T09:58:07.916308Z",
     "iopub.status.idle": "2024-05-25T09:58:07.920503Z",
     "shell.execute_reply": "2024-05-25T09:58:07.920010Z"
    }
   },
   "outputs": [
    {
     "name": "stdout",
     "output_type": "stream",
     "text": [
      "S :\n",
      "[[ 0.08696371 -0.02660418  0.01262746 -0.00355515]\n",
      " [ 0.10115441  0.18964047 -0.04050789  0.01029065]\n",
      " [-0.0209262   0.19091672  0.19091672 -0.0209262 ]\n",
      " [ 0.01029065 -0.04050789  0.18964047  0.10115441]]\n",
      "hCoeffs : [-0.1139172   0.40076152 -0.81363245  1.52678813]\n"
     ]
    }
   ],
   "source": [
    "coll = Collocation(nNodes=4, nodeType=\"LEGENDRE\", quadType=\"GAUSS\")\n",
    "S = coll.S\n",
    "hCoeffs = coll.hCoeffs\n",
    "\n",
    "print(\"S :\")\n",
    "print(S)\n",
    "print(\"hCoeffs :\", hCoeffs)"
   ]
  }
 ],
 "metadata": {
  "kernelspec": {
   "display_name": "base",
   "language": "python",
   "name": "python3"
  },
  "language_info": {
   "codemirror_mode": {
    "name": "ipython",
    "version": 3
   },
   "file_extension": ".py",
   "mimetype": "text/x-python",
   "name": "python",
   "nbconvert_exporter": "python",
   "pygments_lexer": "ipython3",
   "version": "3.11.9"
  }
 },
 "nbformat": 4,
 "nbformat_minor": 2
}
